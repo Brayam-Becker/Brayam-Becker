{
  "nbformat": 4,
  "nbformat_minor": 0,
  "metadata": {
    "colab": {
      "provenance": [],
      "machine_shape": "hm",
      "gpuType": "V100",
      "authorship_tag": "ABX9TyPAk8RormOFFYcZ//o0xNmQ",
      "include_colab_link": true
    },
    "kernelspec": {
      "name": "python3",
      "display_name": "Python 3"
    },
    "language_info": {
      "name": "python"
    },
    "accelerator": "GPU"
  },
  "cells": [
    {
      "cell_type": "markdown",
      "metadata": {
        "id": "view-in-github",
        "colab_type": "text"
      },
      "source": [
        "<a href=\"https://colab.research.google.com/github/Brayam-Becker/Brayam-Becker/blob/main/COVID19.ipynb\" target=\"_parent\"><img src=\"https://colab.research.google.com/assets/colab-badge.svg\" alt=\"Open In Colab\"/></a>"
      ]
    },
    {
      "cell_type": "code",
      "execution_count": null,
      "metadata": {
        "id": "cxJxDorIGXcg",
        "colab": {
          "base_uri": "https://localhost:8080/"
        },
        "outputId": "164d2631-a2a3-40cd-ae70-286a1e673141"
      },
      "outputs": [
        {
          "output_type": "stream",
          "name": "stdout",
          "text": [
            "Looking in indexes: https://pypi.org/simple, https://us-python.pkg.dev/colab-wheels/public/simple/\n",
            "Requirement already satisfied: pyspark in /usr/local/lib/python3.10/dist-packages (3.4.1)\n",
            "Requirement already satisfied: py4j==0.10.9.7 in /usr/local/lib/python3.10/dist-packages (from pyspark) (0.10.9.7)\n"
          ]
        }
      ],
      "source": [
        "!pip install pyspark\n",
        "\n",
        "\n"
      ]
    },
    {
      "cell_type": "code",
      "source": [
        "# Importar as bibliotecas necessárias\n",
        "from pyspark.sql import SparkSession\n",
        "import pyspark.sql.functions as F\n",
        "import matplotlib.pyplot as plt\n",
        "from pyspark.sql import functions as F\n",
        "from pyspark.sql.functions import col, to_date\n",
        "from pyspark import SparkContext"
      ],
      "metadata": {
        "id": "HfCCbp_ZGp30"
      },
      "execution_count": null,
      "outputs": []
    },
    {
      "cell_type": "code",
      "source": [
        "# Criar uma sessão Spark\n",
        "!pip install findspark\n",
        "import findspark\n",
        "findspark.init()\n",
        "from pyspark.sql import SparkSession\n",
        "\n",
        "spark = SparkSession.builder \\\n",
        "    .master(\"spark://192.168.56.104:7077\") \\\n",
        "    .appName(\"Análise de Dados de COVID-19\") \\\n",
        "    .getOrCreate()"
      ],
      "metadata": {
        "id": "jW7fVIOpGo2J",
        "colab": {
          "base_uri": "https://localhost:8080/"
        },
        "outputId": "e69cf735-e967-4411-eb1f-936c18fee49e"
      },
      "execution_count": null,
      "outputs": [
        {
          "output_type": "stream",
          "name": "stdout",
          "text": [
            "Looking in indexes: https://pypi.org/simple, https://us-python.pkg.dev/colab-wheels/public/simple/\n",
            "Requirement already satisfied: findspark in /usr/local/lib/python3.10/dist-packages (2.0.1)\n"
          ]
        }
      ]
    },
    {
      "cell_type": "code",
      "source": [
        "\n",
        "# Carregar o conjunto de dados como um DataFrame do Spark\n",
        "dados_covid = spark.read.csv('/content/2023-06-21_Casos_Covid_19_-_Base_de_Dados.csv', encoding='utf-8',sep=';', header=True, inferSchema=True)\n",
        "dados_covid = dados_covid.withColumnRenamed('DATA INCLUSÃO/ NOTIFICAÇÃO', 'DATA_INCLUSAO')\n",
        "# Exibir as primeiras linhas do conjunto de dados para verificação\n",
        "dados_covid.show()"
      ],
      "metadata": {
        "id": "BuKuF5cnHCr0",
        "colab": {
          "base_uri": "https://localhost:8080/"
        },
        "outputId": "648791d3-df2f-474b-f69f-bb22ce9d517b"
      },
      "execution_count": null,
      "outputs": [
        {
          "output_type": "stream",
          "name": "stdout",
          "text": [
            "+--------------------------+-------------------+------------+----+-------------+-------------------+-------------------+-----------------+----------+------------+\n",
            "|DATA INCLUS�O/ NOTIFICA��O|CLASSIFICA��O FINAL|IDADE (anos)|SEXO|       BAIRRO|DISTRITO RESID�NCIA|INTERNADO (SIM/N�O)|DATA COLETA EXAME|DATA �BITO|ENCERRAMENTO|\n",
            "+--------------------------+-------------------+------------+----+-------------+-------------------+-------------------+-----------------+----------+------------+\n",
            "|                11/03/2020|         CONFIRMADO|          54|   M|   CRISTO REI|               DSMZ|                N�O|       09/03/2020|      null|  RECUPERADO|\n",
            "|                12/03/2020|         CONFIRMADO|          15|   M|        XAXIM|               DSBQ|                N�O|       08/03/2020|      null|  RECUPERADO|\n",
            "|                12/03/2020|         CONFIRMADO|          43|   M|        XAXIM|               DSBQ|                N�O|       09/03/2020|      null|  RECUPERADO|\n",
            "|                12/03/2020|         CONFIRMADO|          25|   F|   CRISTO REI|               DSMZ|                N�O|       09/03/2020|      null|  RECUPERADO|\n",
            "|                12/03/2020|         CONFIRMADO|          58|   M|       MERC�S|               DSMZ|                N�O|       09/03/2020|      null|  RECUPERADO|\n",
            "|                13/03/2020|         CONFIRMADO|          57|   F|   �GUA VERDE|               DSPR|                N�O|       11/03/2020|      null|  RECUPERADO|\n",
            "|                13/03/2020|         CONFIRMADO|          27|   F|    BACACHERI|               DSBV|                N�O|       12/03/2020|      null|  RECUPERADO|\n",
            "|                13/03/2020|         CONFIRMADO|          26|   F|        BATEL|               DSMZ|                N�O|       13/03/2020|      null|  RECUPERADO|\n",
            "|                13/03/2020|         CONFIRMADO|          52|   F|    BACACHERI|               DSBV|                N�O|       13/03/2020|      null|  RECUPERADO|\n",
            "|                14/03/2020|         CONFIRMADO|          22|   F|        BATEL|               DSMZ|                N�O|       18/03/2020|      null|  RECUPERADO|\n",
            "|                15/03/2020|         CONFIRMADO|          26|   F|   BIGORRILHO|               DSSF|                N�O|       15/03/2020|      null|  RECUPERADO|\n",
            "|                15/03/2020|         CONFIRMADO|          48|   F|       CABRAL|               DSMZ|                N�O|       15/03/2020|      null|  RECUPERADO|\n",
            "|                15/03/2020|         CONFIRMADO|          32|   M|      UBERABA|               DSCJ|                N�O|       15/03/2020|      null|  RECUPERADO|\n",
            "|                16/03/2020|         CONFIRMADO|          36|   F|SANTA C�NDIDA|               DSBV|                N�O|       16/03/2020|      null|  RECUPERADO|\n",
            "|                16/03/2020|         CONFIRMADO|          45|   F|    BACACHERI|               DSBV|                N�O|       16/03/2020|      null|  RECUPERADO|\n",
            "|                16/03/2020|         CONFIRMADO|          26|   F|        FANNY|               DSPN|                N�O|       16/03/2020|      null|  RECUPERADO|\n",
            "|                16/03/2020|         CONFIRMADO|          48|   F|     S�O BRAZ|               DSSF|                N�O|       19/03/2020|      null|  RECUPERADO|\n",
            "|                16/03/2020|         CONFIRMADO|          53|   M|    BACACHERI|               DSBV|                N�O|       22/03/2020|      null|  RECUPERADO|\n",
            "|                16/03/2020|         CONFIRMADO|          30|   F|   �GUA VERDE|               DSPR|                N�O|       09/04/2020|      null|  RECUPERADO|\n",
            "|                16/03/2020|         CONFIRMADO|          32|   F|  BAIRRO ALTO|               DSBV|                N�O|       14/04/2020|      null|  RECUPERADO|\n",
            "+--------------------------+-------------------+------------+----+-------------+-------------------+-------------------+-----------------+----------+------------+\n",
            "only showing top 20 rows\n",
            "\n"
          ]
        }
      ]
    },
    {
      "cell_type": "code",
      "source": [
        "total_registros = dados_covid.count()\n",
        "print(\"Total de registros:\", total_registros)\n"
      ],
      "metadata": {
        "id": "xyd8HguVr5T5",
        "colab": {
          "base_uri": "https://localhost:8080/"
        },
        "outputId": "3005c531-a47e-405c-ba78-7ca8f51ec930"
      },
      "execution_count": null,
      "outputs": [
        {
          "output_type": "stream",
          "name": "stdout",
          "text": [
            "Total de registros: 594161\n"
          ]
        }
      ]
    },
    {
      "cell_type": "markdown",
      "source": [
        "#Limpeza dos dados"
      ],
      "metadata": {
        "id": "Nau_of2T3hEY"
      }
    },
    {
      "cell_type": "code",
      "source": [
        "dados_covid = dados_covid.withColumnRenamed('DATA INCLUS�O/ NOTIFICA��O', 'DATA_INCLUSAO')\n",
        "dados_covid = dados_covid.withColumnRenamed('CLASSIFICA��O FINAL', 'CLASSIFICACAO_FINAL')\n",
        "dados_covid = dados_covid.withColumnRenamed('DISTRITO RESID�NCIA', 'DISTRITO RESIDENCIA')\n",
        "dados_covid = dados_covid.withColumnRenamed('INTERNADO (SIM/N�O)', 'INTERNADO')\n",
        "dados_covid = dados_covid.withColumnRenamed('DATA �BITO', 'DATA OBITO')\n",
        "dados_covid = dados_covid.withColumnRenamed('DISTRITO RESIDENCIA', 'DISTRITO_RESIDENCIA')\n",
        "dados_covid = dados_covid.withColumnRenamed('DATA COLETA EXAME', 'DATA_COLETA_EXAME')\n",
        "dados_covid = dados_covid.withColumnRenamed('IDADE (anos)', 'IDADE')"
      ],
      "metadata": {
        "id": "fr5t58yZq5W6"
      },
      "execution_count": null,
      "outputs": []
    },
    {
      "cell_type": "code",
      "source": [
        "from pyspark.sql.functions import col, sum\n",
        "\n",
        "# Contar os valores nulos em cada coluna\n",
        "null_counts = dados_covid.select([sum(col(column).isNull().cast(\"int\")).alias(column) for column in dados_covid.columns])\n",
        "\n",
        "# Exibir os valores nulos em cada coluna\n",
        "null_counts.show()\n"
      ],
      "metadata": {
        "id": "GvzFebNTs60D",
        "colab": {
          "base_uri": "https://localhost:8080/"
        },
        "outputId": "0cbce421-2477-4429-cd61-a139c83977d1"
      },
      "execution_count": null,
      "outputs": [
        {
          "output_type": "stream",
          "name": "stdout",
          "text": [
            "+-------------+-------------------+-----+----+------+-------------------+---------+-----------------+----------+------------+\n",
            "|DATA_INCLUSAO|CLASSIFICACAO_FINAL|IDADE|SEXO|BAIRRO|DISTRITO_RESIDENCIA|INTERNADO|DATA_COLETA_EXAME|DATA OBITO|ENCERRAMENTO|\n",
            "+-------------+-------------------+-----+----+------+-------------------+---------+-----------------+----------+------------+\n",
            "|            0|                  0|    0|   0| 10437|              10435|        0|                0|    585404|           0|\n",
            "+-------------+-------------------+-----+----+------+-------------------+---------+-----------------+----------+------------+\n",
            "\n"
          ]
        }
      ]
    },
    {
      "cell_type": "code",
      "source": [
        "from pyspark.sql.functions import when, col\n",
        "\n",
        "# Substituir valores nulos por \"NÃO-INFORMADO\" na coluna \"BAIRRO\"\n",
        "dados_covid_completos = dados_covid.withColumn(\"BAIRRO\", when(col(\"BAIRRO\").isNull(), \"NÃO-INFORMADO\").otherwise(col(\"BAIRRO\")))\n",
        "# Substituir valores nulos por \"NÃO-INFORMADO\" na coluna \"SEXO\"\n",
        "dados_covid_completos = dados_covid_completos.withColumn(\"SEXO\", when(col(\"SEXO\").isNull(), \"NÃO-INFORMADO\").otherwise(col(\"SEXO\")))\n",
        "# Substituir valores nulos por \"NÃO-INFORMADO\" na coluna \"INTERNADO\"\n",
        "dados_covid_completos = dados_covid_completos.withColumn(\"INTERNADO\", when(col(\"INTERNADO\").isNull(), \"NÃO-INFORMADO\").otherwise(col(\"INTERNADO\")))\n",
        "# Substituir valores nulos por \"NÃO-INFORMADO\" na coluna \"ENCERRAMENTO\"\n",
        "dados_covid_completos = dados_covid_completos.withColumn(\"ENCERRAMENTO\", when(col(\"ENCERRAMENTO\").isNull(), \"NÃO-INFORMADO\").otherwise(col(\"ENCERRAMENTO\")))\n",
        "# Substituir valores nulos por \"-1\" na coluna \"IDADE\"\n",
        "dados_covid_completos = dados_covid_completos.withColumn(\"IDADE\", col(\"IDADE\").cast(\"integer\")).na.drop(subset=[\"IDADE\"])\n",
        "# Substituir valores nulos por \"NÃO-INFORMADO\" na coluna \"DISTRITO RESIDÊNCIA\"\n",
        "dados_covid_completos = dados_covid_completos.withColumn(\"DISTRITO_RESIDENCIA\", when(col(\"DISTRITO_RESIDENCIA\").isNull(), \"NÃO-INFORMADO\").otherwise(col(\"DISTRITO_RESIDENCIA\")))\n",
        "# Substituir valores nulos por \"NÃO-INFORMADO\" na coluna \"DATA_COLETA_EXAME\"\n",
        "dados_covid_completos = dados_covid_completos.withColumn(\"DATA_COLETA_EXAME\", when(col(\"DATA_COLETA_EXAME\").isNull(), \"NÃO-INFORMADO\").otherwise(col(\"DATA_COLETA_EXAME\")))\n",
        "# Por possuir uma grande quantidade de nulos, irei excluir a coluna DATA �BITO\n",
        "dados_covid_completos = dados_covid_completos.drop(\"DATA OBITO\")\n",
        "# Contar os valores nulos em cada coluna\n",
        "null_counts = dados_covid_completos.select([sum(col(column).isNull().cast(\"int\")).alias(column) for column in dados_covid_completos.columns])\n",
        "\n",
        "# Exibir os valores nulos em cada coluna\n",
        "null_counts.show()\n"
      ],
      "metadata": {
        "id": "FXN0ySgjunNq",
        "colab": {
          "base_uri": "https://localhost:8080/"
        },
        "outputId": "f8738ace-a866-44fd-fb39-f87e242b6166"
      },
      "execution_count": null,
      "outputs": [
        {
          "output_type": "stream",
          "name": "stdout",
          "text": [
            "+-------------+-------------------+-----+----+------+-------------------+---------+-----------------+------------+\n",
            "|DATA_INCLUSAO|CLASSIFICACAO_FINAL|IDADE|SEXO|BAIRRO|DISTRITO_RESIDENCIA|INTERNADO|DATA_COLETA_EXAME|ENCERRAMENTO|\n",
            "+-------------+-------------------+-----+----+------+-------------------+---------+-----------------+------------+\n",
            "|            0|                  0|    0|   0|     0|                  0|        0|                0|           0|\n",
            "+-------------+-------------------+-----+----+------+-------------------+---------+-----------------+------------+\n",
            "\n"
          ]
        }
      ]
    },
    {
      "cell_type": "code",
      "source": [
        "!pip install unidecode\n",
        "\n",
        "from unidecode import unidecode\n",
        "from pyspark.sql.functions import udf\n",
        "\n",
        "# Função para remover acentos de uma string\n",
        "def remove_accent(text):\n",
        "    return unidecode(text)\n",
        "\n",
        "# Registrar a função como um User Defined Function (UDF)\n",
        "remove_accent_udf = udf(remove_accent)\n",
        "\n",
        "\n",
        "# Lista das colunas de tipo string\n",
        "colunas_str = [column for column, dtype in dados_covid_completos.dtypes if dtype == \"string\"]\n",
        "\n",
        "# Percorrer apenas as colunas de tipo string e remover os acentos\n",
        "dados_covid_limpos = dados_covid_completos.select([remove_accent_udf(col(column)).alias(column) if column in colunas_str else col(column) for column in dados_covid_completos.columns])\n",
        "\n",
        "# Exibir as primeiras linhas do DataFrame após a remoção dos acentos\n",
        "dados_covid_limpos.show()\n",
        "\n"
      ],
      "metadata": {
        "id": "g-K93e8BYGRt",
        "colab": {
          "base_uri": "https://localhost:8080/"
        },
        "outputId": "5ee0a189-84fd-47f8-d38e-350faf8b3b35"
      },
      "execution_count": null,
      "outputs": [
        {
          "output_type": "stream",
          "name": "stdout",
          "text": [
            "Looking in indexes: https://pypi.org/simple, https://us-python.pkg.dev/colab-wheels/public/simple/\n",
            "Collecting unidecode\n",
            "  Downloading Unidecode-1.3.6-py3-none-any.whl (235 kB)\n",
            "\u001b[2K     \u001b[90m━━━━━━━━━━━━━━━━━━━━━━━━━━━━━━━━━━━━━━━\u001b[0m \u001b[32m235.9/235.9 kB\u001b[0m \u001b[31m8.7 MB/s\u001b[0m eta \u001b[36m0:00:00\u001b[0m\n",
            "\u001b[?25hInstalling collected packages: unidecode\n",
            "Successfully installed unidecode-1.3.6\n",
            "+-------------+-------------------+-----+----+------------+-------------------+---------+-----------------+------------+\n",
            "|DATA_INCLUSAO|CLASSIFICACAO_FINAL|IDADE|SEXO|      BAIRRO|DISTRITO_RESIDENCIA|INTERNADO|DATA_COLETA_EXAME|ENCERRAMENTO|\n",
            "+-------------+-------------------+-----+----+------------+-------------------+---------+-----------------+------------+\n",
            "|   11/03/2020|         CONFIRMADO|   54|   M|  CRISTO REI|               DSMZ|       NO|       09/03/2020|  RECUPERADO|\n",
            "|   12/03/2020|         CONFIRMADO|   15|   M|       XAXIM|               DSBQ|       NO|       08/03/2020|  RECUPERADO|\n",
            "|   12/03/2020|         CONFIRMADO|   43|   M|       XAXIM|               DSBQ|       NO|       09/03/2020|  RECUPERADO|\n",
            "|   12/03/2020|         CONFIRMADO|   25|   F|  CRISTO REI|               DSMZ|       NO|       09/03/2020|  RECUPERADO|\n",
            "|   12/03/2020|         CONFIRMADO|   58|   M|       MERCS|               DSMZ|       NO|       09/03/2020|  RECUPERADO|\n",
            "|   13/03/2020|         CONFIRMADO|   57|   F|   GUA VERDE|               DSPR|       NO|       11/03/2020|  RECUPERADO|\n",
            "|   13/03/2020|         CONFIRMADO|   27|   F|   BACACHERI|               DSBV|       NO|       12/03/2020|  RECUPERADO|\n",
            "|   13/03/2020|         CONFIRMADO|   26|   F|       BATEL|               DSMZ|       NO|       13/03/2020|  RECUPERADO|\n",
            "|   13/03/2020|         CONFIRMADO|   52|   F|   BACACHERI|               DSBV|       NO|       13/03/2020|  RECUPERADO|\n",
            "|   14/03/2020|         CONFIRMADO|   22|   F|       BATEL|               DSMZ|       NO|       18/03/2020|  RECUPERADO|\n",
            "|   15/03/2020|         CONFIRMADO|   26|   F|  BIGORRILHO|               DSSF|       NO|       15/03/2020|  RECUPERADO|\n",
            "|   15/03/2020|         CONFIRMADO|   48|   F|      CABRAL|               DSMZ|       NO|       15/03/2020|  RECUPERADO|\n",
            "|   15/03/2020|         CONFIRMADO|   32|   M|     UBERABA|               DSCJ|       NO|       15/03/2020|  RECUPERADO|\n",
            "|   16/03/2020|         CONFIRMADO|   36|   F|SANTA CNDIDA|               DSBV|       NO|       16/03/2020|  RECUPERADO|\n",
            "|   16/03/2020|         CONFIRMADO|   45|   F|   BACACHERI|               DSBV|       NO|       16/03/2020|  RECUPERADO|\n",
            "|   16/03/2020|         CONFIRMADO|   26|   F|       FANNY|               DSPN|       NO|       16/03/2020|  RECUPERADO|\n",
            "|   16/03/2020|         CONFIRMADO|   48|   F|     SO BRAZ|               DSSF|       NO|       19/03/2020|  RECUPERADO|\n",
            "|   16/03/2020|         CONFIRMADO|   53|   M|   BACACHERI|               DSBV|       NO|       22/03/2020|  RECUPERADO|\n",
            "|   16/03/2020|         CONFIRMADO|   30|   F|   GUA VERDE|               DSPR|       NO|       09/04/2020|  RECUPERADO|\n",
            "|   16/03/2020|         CONFIRMADO|   32|   F| BAIRRO ALTO|               DSBV|       NO|       14/04/2020|  RECUPERADO|\n",
            "+-------------+-------------------+-----+----+------------+-------------------+---------+-----------------+------------+\n",
            "only showing top 20 rows\n",
            "\n"
          ]
        }
      ]
    },
    {
      "cell_type": "markdown",
      "source": [
        "#Análise exploratória dos dados"
      ],
      "metadata": {
        "id": "sQnzcrmT3yCJ"
      }
    },
    {
      "cell_type": "code",
      "source": [
        "total_registros = dados_covid_limpos.count()\n",
        "print(\"Total de registros:\", total_registros)\n"
      ],
      "metadata": {
        "id": "-rzQKXpqHLF8",
        "colab": {
          "base_uri": "https://localhost:8080/"
        },
        "outputId": "22cfcce7-3164-4a84-b82b-e63db6470225"
      },
      "execution_count": null,
      "outputs": [
        {
          "output_type": "stream",
          "name": "stdout",
          "text": [
            "Total de registros: 594161\n"
          ]
        }
      ]
    },
    {
      "cell_type": "code",
      "source": [
        "from pyspark.sql.functions import col, upper\n",
        "\n",
        "# Formatar a coluna 'SEXO' para maiúsculas\n",
        "dados_covid_limpos = dados_covid_limpos.withColumn('CLASSIFICACAO_FINAL', upper(col('CLASSIFICACAO_FINAL')))\n",
        "\n",
        "# Realizar o agrupamento e contagem\n",
        "casos_por_classificacao = dados_covid_limpos.groupBy('CLASSIFICACAO_FINAL').count()\n",
        "casos_por_classificacao.show()"
      ],
      "metadata": {
        "id": "mlvct6vGI5v2",
        "colab": {
          "base_uri": "https://localhost:8080/"
        },
        "outputId": "235e806e-b02f-4566-bc90-c9af69acece0"
      },
      "execution_count": null,
      "outputs": [
        {
          "output_type": "stream",
          "name": "stdout",
          "text": [
            "+-------------------+------+\n",
            "|CLASSIFICACAO_FINAL| count|\n",
            "+-------------------+------+\n",
            "|         CONFIRMADO|594161|\n",
            "+-------------------+------+\n",
            "\n"
          ]
        }
      ]
    },
    {
      "cell_type": "code",
      "source": [
        "from pyspark.sql.functions import col, upper\n",
        "\n",
        "# Formatar a coluna 'SEXO' para maiúsculas\n",
        "dados_covid_limpos = dados_covid_limpos.withColumn('SEXO', upper(col('SEXO')))\n",
        "\n",
        "# Realizar o agrupamento e contagem\n",
        "casos_por_sexo = dados_covid_limpos.groupBy('SEXO').count()\n",
        "casos_por_sexo.show()\n"
      ],
      "metadata": {
        "id": "kVl2qrGeoBXt",
        "colab": {
          "base_uri": "https://localhost:8080/"
        },
        "outputId": "85efaf9f-df44-4841-e373-31a525696e08"
      },
      "execution_count": null,
      "outputs": [
        {
          "output_type": "stream",
          "name": "stdout",
          "text": [
            "+----+------+\n",
            "|SEXO| count|\n",
            "+----+------+\n",
            "|   F|337417|\n",
            "|   M|256744|\n",
            "+----+------+\n",
            "\n"
          ]
        }
      ]
    },
    {
      "cell_type": "code",
      "source": [
        "import pandas as pd\n",
        "import matplotlib.pyplot as plt\n",
        "\n",
        "# Converter o resultado para um DataFrame do Pandas\n",
        "casos_por_sexo_df = casos_por_sexo.na.drop().toPandas()\n",
        "\n",
        "# Plotar o gráfico de barras\n",
        "plt.figure(figsize=(6, 4))\n",
        "plt.bar(casos_por_sexo_df['SEXO'], casos_por_sexo_df['count'])\n",
        "plt.xlabel('Sexo')\n",
        "plt.ylabel('Número de Casos')\n",
        "plt.title('Casos de COVID-19 por Sexo')\n",
        "plt.show()\n"
      ],
      "metadata": {
        "id": "t_4FObjsoQ2e",
        "colab": {
          "base_uri": "https://localhost:8080/",
          "height": 410
        },
        "outputId": "5b11536d-6b0f-4905-a7e1-db785dd116ad"
      },
      "execution_count": null,
      "outputs": [
        {
          "output_type": "display_data",
          "data": {
            "text/plain": [
              "<Figure size 600x400 with 1 Axes>"
            ],
            "image/png": "[encoded data removed]"
          },
          "metadata": {}
        }
      ]
    },
    {
      "cell_type": "code",
      "source": [
        "from pyspark.sql.functions import col, upper\n",
        "\n",
        "# Formatar a coluna 'INTERNADO' para maiúsculas\n",
        "dados_covid_limpos = dados_covid_limpos.withColumn('INTERNADO', upper(col('INTERNADO')))\n",
        "\n",
        "# Realizar o agrupamento e contagem\n",
        "casos_por_internado = dados_covid_limpos.groupBy('INTERNADO').count()\n",
        "casos_por_internado.show()"
      ],
      "metadata": {
        "id": "YKk-lu_0ARVo",
        "colab": {
          "base_uri": "https://localhost:8080/"
        },
        "outputId": "cfd29f24-41ee-4e08-fe4a-0a9608942af6"
      },
      "execution_count": null,
      "outputs": [
        {
          "output_type": "stream",
          "name": "stdout",
          "text": [
            "+---------+------+\n",
            "|INTERNADO| count|\n",
            "+---------+------+\n",
            "|      SIM| 30969|\n",
            "|       NO|563192|\n",
            "+---------+------+\n",
            "\n"
          ]
        }
      ]
    },
    {
      "cell_type": "code",
      "source": [
        "import matplotlib.pyplot as plt\n",
        "\n",
        "# Agrupar por valores únicos na coluna \"INTERNADO\" e contar as ocorrências\n",
        "internado_counts = dados_covid_limpos.groupBy('INTERNADO').count().collect()\n",
        "\n",
        "# Extrair os valores e rótulos do gráfico de pizza\n",
        "labels = [row['INTERNADO'] for row in internado_counts]\n",
        "counts = [row['count'] for row in internado_counts]\n",
        "\n",
        "# Criar o gráfico de pizza\n",
        "plt.pie(counts, labels=labels, autopct='%1.1f%%')\n",
        "\n",
        "# Definir título do gráfico\n",
        "plt.title('Distribuição de Internados')\n",
        "\n",
        "# Exibir o gráfico\n",
        "plt.show()\n"
      ],
      "metadata": {
        "id": "s3nVE2Zd_uSV",
        "colab": {
          "base_uri": "https://localhost:8080/",
          "height": 428
        },
        "outputId": "9a4897ec-069d-4523-a3c6-c99f930bc5f3"
      },
      "execution_count": null,
      "outputs": [
        {
          "output_type": "display_data",
          "data": {
            "text/plain": [
              "<Figure size 640x480 with 1 Axes>"
            ],
            "image/png": "[encoded data removed]"
          },
          "metadata": {}
        }
      ]
    },
    {
      "cell_type": "code",
      "source": [
        "total_confirmados = dados_covid_limpos.filter(dados_covid_limpos['CLASSIFICACAO_FINAL'] == 'CONFIRMADO').count()\n",
        "print(\"Total de casos confirmados:\", total_confirmados)\n"
      ],
      "metadata": {
        "id": "duVxnwP4HRKE",
        "colab": {
          "base_uri": "https://localhost:8080/"
        },
        "outputId": "a6d91b3c-224d-444e-82c0-7693a653d14f"
      },
      "execution_count": null,
      "outputs": [
        {
          "output_type": "stream",
          "name": "stdout",
          "text": [
            "Total de casos confirmados: 594161\n"
          ]
        }
      ]
    },
    {
      "cell_type": "code",
      "source": [
        "casos_por_bairro = dados_covid_limpos.groupBy('BAIRRO').count().orderBy('count', ascending=False)\n",
        "casos_por_bairro.show()\n",
        "\n"
      ],
      "metadata": {
        "id": "5wFZdRe_HT7i",
        "colab": {
          "base_uri": "https://localhost:8080/"
        },
        "outputId": "30eefa6e-955a-472a-bb84-3b435162a510"
      },
      "execution_count": null,
      "outputs": [
        {
          "output_type": "stream",
          "name": "stdout",
          "text": [
            "+--------------------+-----+\n",
            "|              BAIRRO|count|\n",
            "+--------------------+-----+\n",
            "|CIDADE INDUSTRIAL...|58228|\n",
            "|        STIO CERCADO|36811|\n",
            "|              CAJURU|30097|\n",
            "|             UBERABA|23750|\n",
            "|            BOQUEIRO|23597|\n",
            "|               XAXIM|19327|\n",
            "|           TATUQUARA|18673|\n",
            "|         PINHEIRINHO|17588|\n",
            "|       ALTO BOQUEIRO|16153|\n",
            "|          NOVO MUNDO|15896|\n",
            "|         BAIRRO ALTO|15860|\n",
            "|           CAPO RASO|13704|\n",
            "|        SANTA CNDIDA|13633|\n",
            "|               PORTO|13142|\n",
            "|           GUA VERDE|13017|\n",
            "|              CENTRO|12965|\n",
            "|    CAMPO DE SANTANA|12691|\n",
            "|    SANTA FELICIDADE|11770|\n",
            "|       NAO-INFORMADO|10437|\n",
            "|      CAMPO COMPRIDO|10007|\n",
            "+--------------------+-----+\n",
            "only showing top 20 rows\n",
            "\n"
          ]
        }
      ]
    },
    {
      "cell_type": "code",
      "source": [
        "import pandas as pd\n",
        "import matplotlib.pyplot as plt\n",
        "\n",
        "# Converter o resultado para um DataFrame do Pandas\n",
        "casos_por_bairro_df = casos_por_bairro.na.drop().toPandas()\n",
        "\n",
        "# Filtrar os 10 bairros com mais casos\n",
        "top_10_bairros = casos_por_bairro_df.head(10)\n",
        "\n",
        "# Ordenar os bairros em ordem ascendente para uma melhor visualização\n",
        "top_10_bairros = top_10_bairros.sort_values('count', ascending=True)\n",
        "\n",
        "# Criar o gráfico de barras horizontais\n",
        "plt.figure(figsize=(6, 4))\n",
        "plt.barh(top_10_bairros['BAIRRO'], top_10_bairros['count'], color='skyblue')\n",
        "plt.xlabel('Número de Casos')\n",
        "plt.ylabel('Bairro')\n",
        "plt.title('Top 10 Bairros com Mais Casos de COVID-19')\n",
        "plt.xticks(rotation=45)\n",
        "plt.tight_layout()\n",
        "plt.show()\n"
      ],
      "metadata": {
        "id": "ZxMmPuSRox5T",
        "colab": {
          "base_uri": "https://localhost:8080/",
          "height": 407
        },
        "outputId": "117544e5-a301-4efe-c28c-063d1e2efc59"
      },
      "execution_count": null,
      "outputs": [
        {
          "output_type": "display_data",
          "data": {
            "text/plain": [
              "<Figure size 600x400 with 1 Axes>"
            ],
            "image/png": "[encoded data removed]"
          },
          "metadata": {}
        }
      ]
    },
    {
      "cell_type": "code",
      "source": [
        "from pyspark.sql.functions import count\n",
        "\n",
        "idade_confirmados_com_contagem = dados_covid_limpos.groupBy('IDADE').agg(count('*').alias('count'))\n",
        "idade_confirmados_com_contagem.show()\n",
        "\n"
      ],
      "metadata": {
        "id": "ndBETjkrYkxP",
        "colab": {
          "base_uri": "https://localhost:8080/"
        },
        "outputId": "7245347a-cdb9-421c-df7a-c4b2bd5e418e"
      },
      "execution_count": null,
      "outputs": [
        {
          "output_type": "stream",
          "name": "stdout",
          "text": [
            "+-----+-----+\n",
            "|IDADE|count|\n",
            "+-----+-----+\n",
            "|   31|11528|\n",
            "|   85|  865|\n",
            "|   65| 4964|\n",
            "|   53| 8954|\n",
            "|   78| 1765|\n",
            "|   34|11741|\n",
            "|  101|   16|\n",
            "|   81| 1280|\n",
            "|   28|11557|\n",
            "|   76| 2188|\n",
            "|   27|11790|\n",
            "|   26|11908|\n",
            "|   44|11758|\n",
            "|  103|    5|\n",
            "|   12| 3402|\n",
            "|   91|  363|\n",
            "|   22|11093|\n",
            "|   93|  241|\n",
            "|   47|10256|\n",
            "|    1| 2735|\n",
            "+-----+-----+\n",
            "only showing top 20 rows\n",
            "\n"
          ]
        }
      ]
    },
    {
      "cell_type": "code",
      "source": [
        "import matplotlib.pyplot as plt\n",
        "\n",
        "# Obter os dados de idade e contagem\n",
        "idades = idade_confirmados_com_contagem.select('IDADE').rdd.flatMap(lambda x: x).collect()\n",
        "contagem = idade_confirmados_com_contagem.select('count').rdd.flatMap(lambda x: x).collect()\n",
        "\n",
        "# Criar o gráfico de barras\n",
        "plt.figure(figsize=(12, 6))\n",
        "plt.bar(idades, contagem)\n",
        "plt.xlabel('Idade')\n",
        "plt.ylabel('Contagem')\n",
        "plt.title('Contagem de Casos Confirmados por Idade')\n",
        "plt.xticks(rotation=90)\n",
        "plt.show()"
      ],
      "metadata": {
        "id": "erQNDfl8ZxMO",
        "colab": {
          "base_uri": "https://localhost:8080/",
          "height": 576
        },
        "outputId": "65f76f5b-204e-44f4-d6cc-96ad5781015b"
      },
      "execution_count": null,
      "outputs": [
        {
          "output_type": "display_data",
          "data": {
            "text/plain": [
              "<Figure size 1200x600 with 1 Axes>"
            ],
            "image/png": "[encoded data removed]"
          },
          "metadata": {}
        }
      ]
    },
    {
      "cell_type": "markdown",
      "source": [
        "#Normalização dos dados"
      ],
      "metadata": {
        "id": "Hmr2qk5kOZ6I"
      }
    },
    {
      "cell_type": "code",
      "source": [
        "from pyspark.ml.feature import MinMaxScaler, VectorAssembler\n",
        "from pyspark.sql import SparkSession\n",
        "\n",
        "# Selecione a coluna 'IDADE' para normalização\n",
        "coluna_idade = dados_covid_limpos.select('IDADE')\n",
        "\n",
        "# Converta a coluna 'IDADE' em um vetor de recursos\n",
        "assembler = VectorAssembler(inputCols=['IDADE'], outputCol='IDADE_FEATURES')\n",
        "dados_com_vetor = assembler.transform(coluna_idade)\n",
        "\n",
        "# Crie um objeto MinMaxScaler\n",
        "scaler = MinMaxScaler(inputCol='IDADE_FEATURES', outputCol='IDADE_NORMALIZADA')\n",
        "\n",
        "# Ajuste o scaler no DataFrame\n",
        "scaler_model = scaler.fit(dados_com_vetor)\n",
        "dados_normalizados_idade = scaler_model.transform(dados_com_vetor)\n",
        "\n",
        "# Exiba o DataFrame com a coluna 'IDADE_NORMALIZADA'\n",
        "dados_normalizados_idade.show()\n"
      ],
      "metadata": {
        "id": "ZaqdnQB5Oc_2",
        "colab": {
          "base_uri": "https://localhost:8080/"
        },
        "outputId": "fc5a814f-f33b-46a5-cc70-fbcc3bbe32a3"
      },
      "execution_count": null,
      "outputs": [
        {
          "output_type": "stream",
          "name": "stdout",
          "text": [
            "+-----+--------------+--------------------+\n",
            "|IDADE|IDADE_FEATURES|   IDADE_NORMALIZADA|\n",
            "+-----+--------------+--------------------+\n",
            "|   54|        [54.0]|[0.5046728971962616]|\n",
            "|   15|        [15.0]|[0.14018691588785...|\n",
            "|   43|        [43.0]|[0.40186915887850...|\n",
            "|   25|        [25.0]|[0.23364485981308...|\n",
            "|   58|        [58.0]|[0.5420560747663551]|\n",
            "|   57|        [57.0]|[0.5327102803738317]|\n",
            "|   27|        [27.0]|[0.2523364485981308]|\n",
            "|   26|        [26.0]|[0.24299065420560...|\n",
            "|   52|        [52.0]|[0.4859813084112149]|\n",
            "|   22|        [22.0]| [0.205607476635514]|\n",
            "|   26|        [26.0]|[0.24299065420560...|\n",
            "|   48|        [48.0]|[0.44859813084112...|\n",
            "|   32|        [32.0]|[0.29906542056074...|\n",
            "|   36|        [36.0]|[0.3364485981308411]|\n",
            "|   45|        [45.0]|[0.4205607476635514]|\n",
            "|   26|        [26.0]|[0.24299065420560...|\n",
            "|   48|        [48.0]|[0.44859813084112...|\n",
            "|   53|        [53.0]|[0.49532710280373...|\n",
            "|   30|        [30.0]|[0.2803738317757009]|\n",
            "|   32|        [32.0]|[0.29906542056074...|\n",
            "+-----+--------------+--------------------+\n",
            "only showing top 20 rows\n",
            "\n"
          ]
        }
      ]
    },
    {
      "cell_type": "code",
      "source": [
        "# Renomear a coluna 'IDADE_NORMALIZADA' para 'IDADE_NORMALIZADA_COL'\n",
        "dados_normalizados_idade = dados_normalizados_idade.withColumnRenamed('IDADE_NORMALIZADA', 'IDADE_NORMALIZADA_COL')\n",
        "\n",
        "# Adicionar a coluna 'IDADE_NORMALIZADA_COL' ao DataFrame original\n",
        "dados_covid_limpos = dados_covid_limpos.join(dados_normalizados_idade.select('IDADE_NORMALIZADA_COL'), how='left')\n",
        "\n",
        "# Exibir o DataFrame resultante\n",
        "dados_covid_limpos.show()\n"
      ],
      "metadata": {
        "id": "BbK0IB1nSf6m",
        "colab": {
          "base_uri": "https://localhost:8080/"
        },
        "outputId": "e6d60b6a-ce30-46dc-f635-4cc6483b0fbc"
      },
      "execution_count": null,
      "outputs": [
        {
          "output_type": "stream",
          "name": "stdout",
          "text": [
            "+-------------+-------------------+-----+----+----------+-------------------+---------+-----------------+------------+---------------------+\n",
            "|DATA_INCLUSAO|CLASSIFICACAO_FINAL|IDADE|SEXO|    BAIRRO|DISTRITO_RESIDENCIA|INTERNADO|DATA_COLETA_EXAME|ENCERRAMENTO|IDADE_NORMALIZADA_COL|\n",
            "+-------------+-------------------+-----+----+----------+-------------------+---------+-----------------+------------+---------------------+\n",
            "|   11/03/2020|         CONFIRMADO|   54|   M|CRISTO REI|               DSMZ|       NO|       09/03/2020|  RECUPERADO| [0.5046728971962616]|\n",
            "|   11/03/2020|         CONFIRMADO|   54|   M|CRISTO REI|               DSMZ|       NO|       09/03/2020|  RECUPERADO| [0.14018691588785...|\n",
            "|   11/03/2020|         CONFIRMADO|   54|   M|CRISTO REI|               DSMZ|       NO|       09/03/2020|  RECUPERADO| [0.40186915887850...|\n",
            "|   11/03/2020|         CONFIRMADO|   54|   M|CRISTO REI|               DSMZ|       NO|       09/03/2020|  RECUPERADO| [0.23364485981308...|\n",
            "|   11/03/2020|         CONFIRMADO|   54|   M|CRISTO REI|               DSMZ|       NO|       09/03/2020|  RECUPERADO| [0.5420560747663551]|\n",
            "|   11/03/2020|         CONFIRMADO|   54|   M|CRISTO REI|               DSMZ|       NO|       09/03/2020|  RECUPERADO| [0.5327102803738317]|\n",
            "|   11/03/2020|         CONFIRMADO|   54|   M|CRISTO REI|               DSMZ|       NO|       09/03/2020|  RECUPERADO| [0.2523364485981308]|\n",
            "|   11/03/2020|         CONFIRMADO|   54|   M|CRISTO REI|               DSMZ|       NO|       09/03/2020|  RECUPERADO| [0.24299065420560...|\n",
            "|   11/03/2020|         CONFIRMADO|   54|   M|CRISTO REI|               DSMZ|       NO|       09/03/2020|  RECUPERADO| [0.4859813084112149]|\n",
            "|   11/03/2020|         CONFIRMADO|   54|   M|CRISTO REI|               DSMZ|       NO|       09/03/2020|  RECUPERADO|  [0.205607476635514]|\n",
            "|   11/03/2020|         CONFIRMADO|   54|   M|CRISTO REI|               DSMZ|       NO|       09/03/2020|  RECUPERADO| [0.24299065420560...|\n",
            "|   11/03/2020|         CONFIRMADO|   54|   M|CRISTO REI|               DSMZ|       NO|       09/03/2020|  RECUPERADO| [0.44859813084112...|\n",
            "|   11/03/2020|         CONFIRMADO|   54|   M|CRISTO REI|               DSMZ|       NO|       09/03/2020|  RECUPERADO| [0.29906542056074...|\n",
            "|   11/03/2020|         CONFIRMADO|   54|   M|CRISTO REI|               DSMZ|       NO|       09/03/2020|  RECUPERADO| [0.3364485981308411]|\n",
            "|   11/03/2020|         CONFIRMADO|   54|   M|CRISTO REI|               DSMZ|       NO|       09/03/2020|  RECUPERADO| [0.4205607476635514]|\n",
            "|   11/03/2020|         CONFIRMADO|   54|   M|CRISTO REI|               DSMZ|       NO|       09/03/2020|  RECUPERADO| [0.24299065420560...|\n",
            "|   11/03/2020|         CONFIRMADO|   54|   M|CRISTO REI|               DSMZ|       NO|       09/03/2020|  RECUPERADO| [0.44859813084112...|\n",
            "|   11/03/2020|         CONFIRMADO|   54|   M|CRISTO REI|               DSMZ|       NO|       09/03/2020|  RECUPERADO| [0.49532710280373...|\n",
            "|   11/03/2020|         CONFIRMADO|   54|   M|CRISTO REI|               DSMZ|       NO|       09/03/2020|  RECUPERADO| [0.2803738317757009]|\n",
            "|   11/03/2020|         CONFIRMADO|   54|   M|CRISTO REI|               DSMZ|       NO|       09/03/2020|  RECUPERADO| [0.29906542056074...|\n",
            "+-------------+-------------------+-----+----+----------+-------------------+---------+-----------------+------------+---------------------+\n",
            "only showing top 20 rows\n",
            "\n"
          ]
        }
      ]
    },
    {
      "cell_type": "code",
      "source": [
        "from pyspark.ml.feature import StringIndexer, OneHotEncoder\n",
        "from pyspark.ml import Pipeline\n",
        "from pyspark.sql.functions import col\n",
        "\n",
        "# Criar o StringIndexer para a coluna 'SEXO'\n",
        "indexer = StringIndexer(inputCol='SEXO', outputCol='SEXO_INDEXED')\n",
        "\n",
        "# Aplicar o StringIndexer no DataFrame\n",
        "indexer_model = indexer.fit(dados_covid_limpos)\n",
        "dados_indexados = indexer_model.transform(dados_covid_limpos)\n",
        "\n",
        "# Criar o OneHotEncoder para a coluna indexada 'SEXO_INDEXED'\n",
        "encoder = OneHotEncoder(inputCol='SEXO_INDEXED', outputCol='SEXO_ENCODED')\n",
        "\n",
        "# Aplicar o OneHotEncoder no DataFrame\n",
        "encoder_model = encoder.fit(dados_indexados)\n",
        "dados_encoded = encoder_model.transform(dados_indexados)\n",
        "\n",
        "# Remover as colunas não utilizadas\n",
        "dados_encoded_sexo = dados_encoded.drop('SEXO', 'SEXO_INDEXED')\n",
        "\n",
        "# Exibir o DataFrame resultante\n",
        "dados_encoded_sexo.show()\n"
      ],
      "metadata": {
        "id": "fHKPRkqGPhGt"
      },
      "execution_count": null,
      "outputs": []
    },
    {
      "cell_type": "code",
      "source": [
        "from itertools import chain\n",
        "from pyspark.sql.functions import col, create_map\n",
        "from pyspark.sql import functions as F\n",
        "\n",
        "# Criar um dicionário de mapeamento dos bairros para valores numéricos\n",
        "mapeamento_bairros = {'CRISTO REI': 0, 'XAXIM': 1, 'MERCS': 2, 'GUA VERDE': 3, 'BACACHERI': 4, 'BATEL': 5, 'BIGORRILHO': 6, 'CABRAL': 7, 'UBERABA': 8, 'SANTA CNDIDA': 9, 'FANNY': 10, 'SO BRAZ': 11, 'BAIRRO ALTO': 12}\n",
        "\n",
        "# Criar uma coluna com o mapeamento dos valores da coluna 'BAIRRO'\n",
        "mapeamento_expr = create_map([F.lit(x) for x in chain(*mapeamento_bairros.items())])\n",
        "dados_covid_limpos = dados_covid_limpos.withColumn('BAIRRO_MAPEADO', mapeamento_expr[col('BAIRRO')])\n",
        "\n",
        "# Remover a coluna original 'BAIRRO'\n",
        "dados_covid_limpos = dados_covid_limpos.drop('BAIRRO')\n",
        "\n",
        "# Exibir o DataFrame resultante\n",
        "dados_covid_limpos.show()\n"
      ],
      "metadata": {
        "id": "NBPwjO3bQncW",
        "colab": {
          "base_uri": "https://localhost:8080/",
          "height": 502
        },
        "outputId": "0fe0cb98-5cb3-4474-d17e-83ef10aa3655"
      },
      "execution_count": null,
      "outputs": [
        {
          "output_type": "stream",
          "name": "stderr",
          "text": [
            "ERROR:root:KeyboardInterrupt while sending command.\n",
            "Traceback (most recent call last):\n",
            "  File \"/usr/local/lib/python3.10/dist-packages/py4j/java_gateway.py\", line 1038, in send_command\n",
            "    response = connection.send_command(command)\n",
            "  File \"/usr/local/lib/python3.10/dist-packages/py4j/clientserver.py\", line 511, in send_command\n",
            "    answer = smart_decode(self.stream.readline()[:-1])\n",
            "  File \"/usr/lib/python3.10/socket.py\", line 705, in readinto\n",
            "    return self._sock.recv_into(b)\n",
            "KeyboardInterrupt\n"
          ]
        },
        {
          "output_type": "error",
          "ename": "KeyboardInterrupt",
          "evalue": "ignored",
          "traceback": [
            "\u001b[0;31m---------------------------------------------------------------------------\u001b[0m",
            "\u001b[0;31mKeyboardInterrupt\u001b[0m                         Traceback (most recent call last)",
            "\u001b[0;32m<ipython-input-24-62d88bd70b1c>\u001b[0m in \u001b[0;36m<cell line: 16>\u001b[0;34m()\u001b[0m\n\u001b[1;32m     14\u001b[0m \u001b[0;34m\u001b[0m\u001b[0m\n\u001b[1;32m     15\u001b[0m \u001b[0;31m# Exibir o DataFrame resultante\u001b[0m\u001b[0;34m\u001b[0m\u001b[0;34m\u001b[0m\u001b[0m\n\u001b[0;32m---> 16\u001b[0;31m \u001b[0mdados_covid_limpos\u001b[0m\u001b[0;34m.\u001b[0m\u001b[0mshow\u001b[0m\u001b[0;34m(\u001b[0m\u001b[0;34m)\u001b[0m\u001b[0;34m\u001b[0m\u001b[0;34m\u001b[0m\u001b[0m\n\u001b[0m",
            "\u001b[0;32m/usr/local/lib/python3.10/dist-packages/pyspark/sql/dataframe.py\u001b[0m in \u001b[0;36mshow\u001b[0;34m(self, n, truncate, vertical)\u001b[0m\n\u001b[1;32m    897\u001b[0m \u001b[0;34m\u001b[0m\u001b[0m\n\u001b[1;32m    898\u001b[0m         \u001b[0;32mif\u001b[0m \u001b[0misinstance\u001b[0m\u001b[0;34m(\u001b[0m\u001b[0mtruncate\u001b[0m\u001b[0;34m,\u001b[0m \u001b[0mbool\u001b[0m\u001b[0;34m)\u001b[0m \u001b[0;32mand\u001b[0m \u001b[0mtruncate\u001b[0m\u001b[0;34m:\u001b[0m\u001b[0;34m\u001b[0m\u001b[0;34m\u001b[0m\u001b[0m\n\u001b[0;32m--> 899\u001b[0;31m             \u001b[0mprint\u001b[0m\u001b[0;34m(\u001b[0m\u001b[0mself\u001b[0m\u001b[0;34m.\u001b[0m\u001b[0m_jdf\u001b[0m\u001b[0;34m.\u001b[0m\u001b[0mshowString\u001b[0m\u001b[0;34m(\u001b[0m\u001b[0mn\u001b[0m\u001b[0;34m,\u001b[0m \u001b[0;36m20\u001b[0m\u001b[0;34m,\u001b[0m \u001b[0mvertical\u001b[0m\u001b[0;34m)\u001b[0m\u001b[0;34m)\u001b[0m\u001b[0;34m\u001b[0m\u001b[0;34m\u001b[0m\u001b[0m\n\u001b[0m\u001b[1;32m    900\u001b[0m         \u001b[0;32melse\u001b[0m\u001b[0;34m:\u001b[0m\u001b[0;34m\u001b[0m\u001b[0;34m\u001b[0m\u001b[0m\n\u001b[1;32m    901\u001b[0m             \u001b[0;32mtry\u001b[0m\u001b[0;34m:\u001b[0m\u001b[0;34m\u001b[0m\u001b[0;34m\u001b[0m\u001b[0m\n",
            "\u001b[0;32m/usr/local/lib/python3.10/dist-packages/py4j/java_gateway.py\u001b[0m in \u001b[0;36m__call__\u001b[0;34m(self, *args)\u001b[0m\n\u001b[1;32m   1319\u001b[0m             \u001b[0mproto\u001b[0m\u001b[0;34m.\u001b[0m\u001b[0mEND_COMMAND_PART\u001b[0m\u001b[0;34m\u001b[0m\u001b[0;34m\u001b[0m\u001b[0m\n\u001b[1;32m   1320\u001b[0m \u001b[0;34m\u001b[0m\u001b[0m\n\u001b[0;32m-> 1321\u001b[0;31m         \u001b[0manswer\u001b[0m \u001b[0;34m=\u001b[0m \u001b[0mself\u001b[0m\u001b[0;34m.\u001b[0m\u001b[0mgateway_client\u001b[0m\u001b[0;34m.\u001b[0m\u001b[0msend_command\u001b[0m\u001b[0;34m(\u001b[0m\u001b[0mcommand\u001b[0m\u001b[0;34m)\u001b[0m\u001b[0;34m\u001b[0m\u001b[0;34m\u001b[0m\u001b[0m\n\u001b[0m\u001b[1;32m   1322\u001b[0m         return_value = get_return_value(\n\u001b[1;32m   1323\u001b[0m             answer, self.gateway_client, self.target_id, self.name)\n",
            "\u001b[0;32m/usr/local/lib/python3.10/dist-packages/py4j/java_gateway.py\u001b[0m in \u001b[0;36msend_command\u001b[0;34m(self, command, retry, binary)\u001b[0m\n\u001b[1;32m   1036\u001b[0m         \u001b[0mconnection\u001b[0m \u001b[0;34m=\u001b[0m \u001b[0mself\u001b[0m\u001b[0;34m.\u001b[0m\u001b[0m_get_connection\u001b[0m\u001b[0;34m(\u001b[0m\u001b[0;34m)\u001b[0m\u001b[0;34m\u001b[0m\u001b[0;34m\u001b[0m\u001b[0m\n\u001b[1;32m   1037\u001b[0m         \u001b[0;32mtry\u001b[0m\u001b[0;34m:\u001b[0m\u001b[0;34m\u001b[0m\u001b[0;34m\u001b[0m\u001b[0m\n\u001b[0;32m-> 1038\u001b[0;31m             \u001b[0mresponse\u001b[0m \u001b[0;34m=\u001b[0m \u001b[0mconnection\u001b[0m\u001b[0;34m.\u001b[0m\u001b[0msend_command\u001b[0m\u001b[0;34m(\u001b[0m\u001b[0mcommand\u001b[0m\u001b[0;34m)\u001b[0m\u001b[0;34m\u001b[0m\u001b[0;34m\u001b[0m\u001b[0m\n\u001b[0m\u001b[1;32m   1039\u001b[0m             \u001b[0;32mif\u001b[0m \u001b[0mbinary\u001b[0m\u001b[0;34m:\u001b[0m\u001b[0;34m\u001b[0m\u001b[0;34m\u001b[0m\u001b[0m\n\u001b[1;32m   1040\u001b[0m                 \u001b[0;32mreturn\u001b[0m \u001b[0mresponse\u001b[0m\u001b[0;34m,\u001b[0m \u001b[0mself\u001b[0m\u001b[0;34m.\u001b[0m\u001b[0m_create_connection_guard\u001b[0m\u001b[0;34m(\u001b[0m\u001b[0mconnection\u001b[0m\u001b[0;34m)\u001b[0m\u001b[0;34m\u001b[0m\u001b[0;34m\u001b[0m\u001b[0m\n",
            "\u001b[0;32m/usr/local/lib/python3.10/dist-packages/py4j/clientserver.py\u001b[0m in \u001b[0;36msend_command\u001b[0;34m(self, command)\u001b[0m\n\u001b[1;32m    509\u001b[0m         \u001b[0;32mtry\u001b[0m\u001b[0;34m:\u001b[0m\u001b[0;34m\u001b[0m\u001b[0;34m\u001b[0m\u001b[0m\n\u001b[1;32m    510\u001b[0m             \u001b[0;32mwhile\u001b[0m \u001b[0;32mTrue\u001b[0m\u001b[0;34m:\u001b[0m\u001b[0;34m\u001b[0m\u001b[0;34m\u001b[0m\u001b[0m\n\u001b[0;32m--> 511\u001b[0;31m                 \u001b[0manswer\u001b[0m \u001b[0;34m=\u001b[0m \u001b[0msmart_decode\u001b[0m\u001b[0;34m(\u001b[0m\u001b[0mself\u001b[0m\u001b[0;34m.\u001b[0m\u001b[0mstream\u001b[0m\u001b[0;34m.\u001b[0m\u001b[0mreadline\u001b[0m\u001b[0;34m(\u001b[0m\u001b[0;34m)\u001b[0m\u001b[0;34m[\u001b[0m\u001b[0;34m:\u001b[0m\u001b[0;34m-\u001b[0m\u001b[0;36m1\u001b[0m\u001b[0;34m]\u001b[0m\u001b[0;34m)\u001b[0m\u001b[0;34m\u001b[0m\u001b[0;34m\u001b[0m\u001b[0m\n\u001b[0m\u001b[1;32m    512\u001b[0m                 \u001b[0mlogger\u001b[0m\u001b[0;34m.\u001b[0m\u001b[0mdebug\u001b[0m\u001b[0;34m(\u001b[0m\u001b[0;34m\"Answer received: {0}\"\u001b[0m\u001b[0;34m.\u001b[0m\u001b[0mformat\u001b[0m\u001b[0;34m(\u001b[0m\u001b[0manswer\u001b[0m\u001b[0;34m)\u001b[0m\u001b[0;34m)\u001b[0m\u001b[0;34m\u001b[0m\u001b[0;34m\u001b[0m\u001b[0m\n\u001b[1;32m    513\u001b[0m                 \u001b[0;31m# Happens when a the other end is dead. There might be an empty\u001b[0m\u001b[0;34m\u001b[0m\u001b[0;34m\u001b[0m\u001b[0m\n",
            "\u001b[0;32m/usr/lib/python3.10/socket.py\u001b[0m in \u001b[0;36mreadinto\u001b[0;34m(self, b)\u001b[0m\n\u001b[1;32m    703\u001b[0m         \u001b[0;32mwhile\u001b[0m \u001b[0;32mTrue\u001b[0m\u001b[0;34m:\u001b[0m\u001b[0;34m\u001b[0m\u001b[0;34m\u001b[0m\u001b[0m\n\u001b[1;32m    704\u001b[0m             \u001b[0;32mtry\u001b[0m\u001b[0;34m:\u001b[0m\u001b[0;34m\u001b[0m\u001b[0;34m\u001b[0m\u001b[0m\n\u001b[0;32m--> 705\u001b[0;31m                 \u001b[0;32mreturn\u001b[0m \u001b[0mself\u001b[0m\u001b[0;34m.\u001b[0m\u001b[0m_sock\u001b[0m\u001b[0;34m.\u001b[0m\u001b[0mrecv_into\u001b[0m\u001b[0;34m(\u001b[0m\u001b[0mb\u001b[0m\u001b[0;34m)\u001b[0m\u001b[0;34m\u001b[0m\u001b[0;34m\u001b[0m\u001b[0m\n\u001b[0m\u001b[1;32m    706\u001b[0m             \u001b[0;32mexcept\u001b[0m \u001b[0mtimeout\u001b[0m\u001b[0;34m:\u001b[0m\u001b[0;34m\u001b[0m\u001b[0;34m\u001b[0m\u001b[0m\n\u001b[1;32m    707\u001b[0m                 \u001b[0mself\u001b[0m\u001b[0;34m.\u001b[0m\u001b[0m_timeout_occurred\u001b[0m \u001b[0;34m=\u001b[0m \u001b[0;32mTrue\u001b[0m\u001b[0;34m\u001b[0m\u001b[0;34m\u001b[0m\u001b[0m\n",
            "\u001b[0;31mKeyboardInterrupt\u001b[0m: "
          ]
        }
      ]
    },
    {
      "cell_type": "code",
      "source": [],
      "metadata": {
        "id": "9fNEb65MRX1t"
      },
      "execution_count": null,
      "outputs": []
    },
    {
      "cell_type": "markdown",
      "source": [
        "# Modelo de Agrupamento para identificar padrões"
      ],
      "metadata": {
        "id": "ZQUyiqDAIqmW"
      }
    },
    {
      "cell_type": "code",
      "source": [
        "from pyspark.ml.clustering import KMeans\n",
        "from pyspark.ml.feature import VectorAssembler, OneHotEncoder, StringIndexer\n",
        "from pyspark.ml import Pipeline\n",
        "from pyspark.sql.functions import col\n",
        "\n",
        "# Selecionando os atributos relevantes\n",
        "attributes = ['IDADE', 'SEXO', 'BAIRRO']\n",
        "\n",
        "# Filtrando os casos\n",
        "confirmed_cases = dados_covid_limpos.filter(dados_covid_limpos.CLASSIFICACAO_FINAL == 'CONFIRMADO')\n",
        "\n",
        "# Convertendo IDADE\n",
        "\n",
        "converted_data = confirmed_cases.withColumn(\"IDADE\", col(\"IDADE\").cast(\"integer\"))\n",
        "\n",
        "# Selecionando os atributos\n",
        "selected_data = converted_data.select(*attributes)\n",
        "\n",
        "# Convertando  os categoricos\n",
        "indexers = [\n",
        "    StringIndexer(inputCol=col, outputCol=col + \"_index\", handleInvalid=\"keep\")\n",
        "    for col in ['SEXO', 'BAIRRO']\n",
        "]\n",
        "\n",
        "encoder = OneHotEncoder(\n",
        "    inputCols=[indexer.getOutputCol() for indexer in indexers],\n",
        "    outputCols=[\"encoded_\" + indexer.getOutputCol() for indexer in indexers]\n",
        ")\n",
        "\n",
        "assembler = VectorAssembler(\n",
        "    inputCols=[\"IDADE\"] + encoder.getOutputCols(),\n",
        "    outputCol=\"features\"\n",
        ")\n",
        "\n",
        "# Definnco o numero de clusters\n",
        "num_clusters = 5\n",
        "\n",
        "# Criando o k-means model\n",
        "kmeans = KMeans(k=num_clusters, seed=42)\n",
        "\n",
        "# Criando o  pipeline\n",
        "preprocessing_pipeline = Pipeline(stages=indexers + [encoder, assembler])\n",
        "\n",
        "# Aplicando a transformação\n",
        "preprocessed_data = preprocessing_pipeline.fit(selected_data).transform(selected_data)\n",
        "\n",
        "# Dropando os valores nulos\n",
        "preprocessed_data = preprocessed_data.dropna()\n",
        "\n",
        "# Treinando o modelo\n",
        "model = kmeans.fit(preprocessed_data)\n",
        "\n",
        "# Pegando os centro dos clusters\n",
        "centers = model.clusterCenters()\n",
        "\n",
        "# Printar o cluster\n",
        "for i, center in enumerate(centers):\n",
        "    print(f\"Cluster {i+1} Center: {center}\")\n"
      ],
      "metadata": {
        "id": "-ah48iBfKLNX"
      },
      "execution_count": null,
      "outputs": []
    }
  ]
}